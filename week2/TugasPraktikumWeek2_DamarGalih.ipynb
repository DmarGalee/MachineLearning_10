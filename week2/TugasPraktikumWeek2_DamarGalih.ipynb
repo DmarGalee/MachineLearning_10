{
  "nbformat": 4,
  "nbformat_minor": 0,
  "metadata": {
    "colab": {
      "provenance": []
    },
    "kernelspec": {
      "name": "python3",
      "display_name": "Python 3"
    },
    "language_info": {
      "name": "python"
    }
  },
  "cells": [
    {
      "cell_type": "code",
      "execution_count": 3,
      "metadata": {
        "colab": {
          "base_uri": "https://localhost:8080/"
        },
        "id": "9iuDljfk2nzr",
        "outputId": "e47d5d0f-0e56-44ba-a17c-cba4217b5ce4"
      },
      "outputs": [
        {
          "output_type": "stream",
          "name": "stdout",
          "text": [
            "   diagnosis  radius_mean  texture_mean  perimeter_mean  area_mean  \\\n",
            "0          1     1.097064     -2.073335        1.269934   0.984375   \n",
            "1          1     1.829821     -0.353632        1.685955   1.908708   \n",
            "2          1     1.579888      0.456187        1.566503   1.558884   \n",
            "3          1    -0.768909      0.253732       -0.592687  -0.764464   \n",
            "4          1     1.750297     -1.151816        1.776573   1.826229   \n",
            "\n",
            "   smoothness_mean  compactness_mean  concavity_mean  concave points_mean  \\\n",
            "0         1.568466          3.283515        2.652874             2.532475   \n",
            "1        -0.826962         -0.487072       -0.023846             0.548144   \n",
            "2         0.942210          1.052926        1.363478             2.037231   \n",
            "3         3.283553          3.402909        1.915897             1.451707   \n",
            "4         0.280372          0.539340        1.371011             1.428493   \n",
            "\n",
            "   symmetry_mean  ...  texture_worst  perimeter_worst  area_worst  \\\n",
            "0       2.217515  ...      -1.359293         2.303601    2.001237   \n",
            "1       0.001392  ...      -0.369203         1.535126    1.890489   \n",
            "2       0.939685  ...      -0.023974         1.347475    1.456285   \n",
            "3       2.867383  ...       0.133984        -0.249939   -0.550021   \n",
            "4      -0.009560  ...      -1.466770         1.338539    1.220724   \n",
            "\n",
            "   smoothness_worst  compactness_worst  concavity_worst  concave points_worst  \\\n",
            "0          1.307686           2.616665         2.109526              2.296076   \n",
            "1         -0.375612          -0.430444        -0.146749              1.087084   \n",
            "2          0.527407           1.082932         0.854974              1.955000   \n",
            "3          3.394275           3.893397         1.989588              2.175786   \n",
            "4          0.220556          -0.313395         0.613179              0.729259   \n",
            "\n",
            "   symmetry_worst  fractal_dimension_worst  Unnamed: 32  \n",
            "0        2.750622                 1.937015          NaN  \n",
            "1       -0.243890                 0.281190          NaN  \n",
            "2        1.152255                 0.201391          NaN  \n",
            "3        6.046041                 4.935010          NaN  \n",
            "4       -0.868353                -0.397100          NaN  \n",
            "\n",
            "[5 rows x 32 columns]\n"
          ]
        },
        {
          "output_type": "stream",
          "name": "stderr",
          "text": [
            "/usr/local/lib/python3.12/dist-packages/sklearn/utils/extmath.py:1101: RuntimeWarning: invalid value encountered in divide\n",
            "  updated_mean = (last_sum + new_sum) / updated_sample_count\n",
            "/usr/local/lib/python3.12/dist-packages/sklearn/utils/extmath.py:1106: RuntimeWarning: invalid value encountered in divide\n",
            "  T = new_sum / new_sample_count\n",
            "/usr/local/lib/python3.12/dist-packages/sklearn/utils/extmath.py:1126: RuntimeWarning: invalid value encountered in divide\n",
            "  new_unnormalized_variance -= correction**2 / new_sample_count\n"
          ]
        }
      ],
      "source": [
        "import pandas as pd\n",
        "from sklearn.preprocessing import LabelEncoder, StandardScaler\n",
        "\n",
        "# 1. Load dataset (misalnya dari CSV, ganti path sesuai file Anda)\n",
        "df = pd.read_csv(\"wbc.csv\")\n",
        "\n",
        "# 2. Pisahkan variabel yang tidak digunakan\n",
        "if 'id' in df.columns:\n",
        "    df.drop(columns=['id'], inplace=True)\n",
        "\n",
        "# 3. Encoding kolom diagnosis\n",
        "le = LabelEncoder()\n",
        "df['diagnosis'] = le.fit_transform(df['diagnosis'])\n",
        "# (B -> 0, M -> 1)\n",
        "\n",
        "# 4. Standardisasi fitur numerik\n",
        "num_cols = df.drop(columns=['diagnosis']).columns  # semua kolom numerik selain target\n",
        "scaler = StandardScaler()\n",
        "df[num_cols] = scaler.fit_transform(df[num_cols])\n",
        "\n",
        "# 5. Lihat hasil\n",
        "print(df.head())\n"
      ]
    }
  ]
}